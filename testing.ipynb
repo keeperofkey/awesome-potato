{
 "cells": [
  {
   "cell_type": "code",
   "execution_count": null,
   "metadata": {},
   "outputs": [
    {
     "name": "stdout",
     "output_type": "stream",
     "text": [
      "   0 Loopback: PCM (hw:0,0), ALSA (32 in, 32 out)\n",
      "   1 Loopback: PCM (hw:0,1), ALSA (32 in, 32 out)\n",
      "   2 HDA Intel PCH: ALC287 Analog (hw:1,0), ALSA (2 in, 0 out)\n",
      "   3 HDA NVidia: BenQ EX2780Q (hw:2,3), ALSA (0 in, 2 out)\n",
      "   4 HDA NVidia: HDMI 1 (hw:2,7), ALSA (0 in, 8 out)\n",
      "   5 HDA NVidia: HDMI 2 (hw:2,8), ALSA (0 in, 8 out)\n",
      "   6 HDA NVidia: HDMI 3 (hw:2,9), ALSA (0 in, 8 out)\n",
      "   7 sysdefault, ALSA (128 in, 128 out)\n",
      "   8 front, ALSA (0 in, 32 out)\n",
      "   9 surround21, ALSA (32 in, 32 out)\n",
      "  10 surround40, ALSA (0 in, 32 out)\n",
      "  11 surround41, ALSA (0 in, 32 out)\n",
      "  12 surround50, ALSA (0 in, 32 out)\n",
      "  13 surround51, ALSA (0 in, 32 out)\n",
      "  14 surround71, ALSA (0 in, 32 out)\n",
      "  15 lavrate, ALSA (128 in, 128 out)\n",
      "  16 samplerate, ALSA (128 in, 128 out)\n",
      "  17 speexrate, ALSA (128 in, 128 out)\n",
      "  18 jack, ALSA (2 in, 2 out)\n",
      "  19 pipewire, ALSA (64 in, 64 out)\n",
      "  20 pulse, ALSA (32 in, 32 out)\n",
      "  21 speex, ALSA (1 in, 1 out)\n",
      "  22 upmix, ALSA (8 in, 8 out)\n",
      "  23 vdownmix, ALSA (6 in, 6 out)\n",
      "  24 dmix, ALSA (0 in, 2 out)\n",
      "* 25 default, ALSA (64 in, 64 out)\n",
      "  26 Built-in Audio Analog Stereo, JACK Audio Connection Kit (4 in, 2 out)\n",
      "  27 Loopback Analog Stereo, JACK Audio Connection Kit (4 in, 2 out)\n",
      "  28 Zen, JACK Audio Connection Kit (2 in, 0 out)\n",
      "  29 TU106 High Definition Audio Controller Digital Stereo (HDMI), JACK Audio Connection Kit (2 in, 2 out)\n",
      "30\n",
      "[25, 25]\n"
     ]
    }
   ],
   "source": [
    "import sounddevice as sd\n",
    "import numpy as np\n",
    "import pyaudio\n",
    "\n",
    "print(sd.query_devices())\n",
    "print(pyaudio.PyAudio().get_default_output_device_info())\n",
    "print(sd.default.device)"
   ]
  },
  {
   "cell_type": "code",
   "execution_count": null,
   "metadata": {},
   "outputs": [],
   "source": []
  }
 ],
 "metadata": {
  "kernelspec": {
   "display_name": "beatnet_env",
   "language": "python",
   "name": "python3"
  },
  "language_info": {
   "codemirror_mode": {
    "name": "ipython",
    "version": 3
   },
   "file_extension": ".py",
   "mimetype": "text/x-python",
   "name": "python",
   "nbconvert_exporter": "python",
   "pygments_lexer": "ipython3",
   "version": "3.8.20"
  }
 },
 "nbformat": 4,
 "nbformat_minor": 2
}
